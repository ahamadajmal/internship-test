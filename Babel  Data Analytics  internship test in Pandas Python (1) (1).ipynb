{
 "cells": [
  {
   "cell_type": "code",
   "execution_count": 7,
   "metadata": {},
   "outputs": [],
   "source": [
    "#AHAMMAD AJMAL\n",
    "#BABEL INTERNSHIP TEST \n",
    "\n",
    "\n",
    "\n",
    "#Q1)Write a Pandas program to replace the 'type' column contains the values 'yes' and 'no' with \"High” and \"Low”?\n",
    "\n",
    "#IMPORT THE PANDAS and NUMPY LIBRARY TO PERFORM \n",
    "import pandas as pd\n",
    "import numpy as np\n"
   ]
  },
  {
   "cell_type": "code",
   "execution_count": 8,
   "metadata": {},
   "outputs": [
    {
     "name": "stdout",
     "output_type": "stream",
     "text": [
      "Original rows:\n",
      "        name  score  attempts qualify\n",
      "a  Anastasia   12.5         1     yes\n",
      "b       Dima    9.0         3      no\n",
      "c  Katherine   16.5         2     yes\n",
      "d      James    NaN         3      no\n",
      "e      Emily    9.0         2      no\n",
      "f    Michael   20.0         3     yes\n",
      "g    Matthew   14.5         1     yes\n",
      "h      Laura    NaN         1      no\n",
      "i      Kevin    8.0         2      no\n",
      "j      Jonas   19.0         1     yes\n",
      "\n",
      "Replace the 'qualify' column contains the values 'High' and 'Low'  with True and  False:\n",
      "        name  score  attempts qualify\n",
      "a  Anastasia   12.5         1    High\n",
      "b       Dima    9.0         3     Low\n",
      "c  Katherine   16.5         2    High\n",
      "d      James    NaN         3     Low\n",
      "e      Emily    9.0         2     Low\n",
      "f    Michael   20.0         3    High\n",
      "g    Matthew   14.5         1    High\n",
      "h      Laura    NaN         1     Low\n",
      "i      Kevin    8.0         2     Low\n",
      "j      Jonas   19.0         1    High\n"
     ]
    }
   ],
   "source": [
    "#Assign the data into exam_data and labels\n",
    "\n",
    "exam_data  = {'name': ['Anastasia', 'Dima', 'Katherine', 'James', 'Emily', 'Michael', 'Matthew', 'Laura', 'Kevin', 'Jonas'],\n",
    "               'score': [12.5, 9, 16.5, np.nan, 9, 20, 14.5, np.nan, 8, 19],\n",
    "               'attempts': [1, 3, 2, 3, 2, 3, 1, 1, 2, 1],\n",
    "               'qualify': ['yes', 'no', 'yes', 'no', 'no', 'yes', 'yes', 'no', 'no', 'yes']}\n",
    "labels = ['a', 'b', 'c', 'd', 'e', 'f', 'g', 'h', 'i', 'j']\n",
    "\n",
    "#Replace the 'qualify' column contains the values 'High' and 'Low'  with True and  False:\n",
    "\n",
    "df = pd.DataFrame(exam_data , index=labels)\n",
    "print(\"Original rows:\")\n",
    "print(df)\n",
    "print(\"\\nReplace the 'qualify' column contains the values 'High' and 'Low'  with True and  False:\")\n",
    "df['qualify'] = df['qualify'].map({'yes':'High', 'no': 'Low'})\n",
    "print(df)"
   ]
  },
  {
   "cell_type": "code",
   "execution_count": null,
   "metadata": {},
   "outputs": [],
   "source": [
    "#Result\n",
    "\n",
    "#Therfore the output is verified by replacing the 'High' and 'Low'  with True and  False."
   ]
  }
 ],
 "metadata": {
  "kernelspec": {
   "display_name": "Python 3",
   "language": "python",
   "name": "python3"
  },
  "language_info": {
   "codemirror_mode": {
    "name": "ipython",
    "version": 3
   },
   "file_extension": ".py",
   "mimetype": "text/x-python",
   "name": "python",
   "nbconvert_exporter": "python",
   "pygments_lexer": "ipython3",
   "version": "3.8.5"
  }
 },
 "nbformat": 4,
 "nbformat_minor": 4
}
